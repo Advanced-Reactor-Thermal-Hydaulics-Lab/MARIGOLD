{
 "cells": [
  {
   "cell_type": "code",
   "execution_count": null,
   "metadata": {},
   "outputs": [],
   "source": [
    "# Imports and Pitot data load\n",
    "import numpy as np\n",
    "import matplotlib as mpl\n",
    "import matplotlib.pyplot as plt\n",
    "import os\n",
    "import MARIGOLD as mgd\n",
    "from MARIGOLD import Condition\n",
    "\n",
    "%matplotlib widget\n",
    "%load_ext autoreload\n",
    "%autoreload 2"
   ]
  },
  {
   "cell_type": "code",
   "execution_count": null,
   "metadata": {},
   "outputs": [],
   "source": [
    "mgd.process_dir(r\"C:\\Users\\adix\\AM4-22S\\90deg_jf4.0_jg0.10\\P3\\90\", \"AM4-22S\", 1.4, 1.461, 1.620, 0.182, 0.312, 0.189, signal_output=1)"
   ]
  }
 ],
 "metadata": {
  "language_info": {
   "name": "python"
  }
 },
 "nbformat": 4,
 "nbformat_minor": 2
}
